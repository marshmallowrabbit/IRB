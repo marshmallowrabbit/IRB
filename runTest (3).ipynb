{
 "cells": [
  {
   "cell_type": "code",
   "execution_count": 5,
   "id": "247eaa30-e2c4-4517-8bdb-62d2aec47b8d",
   "metadata": {},
   "outputs": [],
   "source": [
    "import os\n",
    "import pandas as pd\n",
    "from Analysis import Analysis \n",
    "from getSignals import getSignals\n",
    "from Plot import Plot"
   ]
  },
  {
   "cell_type": "code",
   "execution_count": 4,
   "id": "7ff9554f-571b-4c0c-a5cb-c143a05d6fa0",
   "metadata": {},
   "outputs": [],
   "source": [
    "data_file = 'BTC_15'"
   ]
  },
  {
   "cell_type": "code",
   "execution_count": 2,
   "id": "c8449dc0-fb64-4843-9830-5c426e6a3088",
   "metadata": {},
   "outputs": [],
   "source": [
    "def recallNum(data_file,number):\n",
    "    data_file_ent = []\n",
    "    for file in os.listdir(data_file):\n",
    "        if file.endswith('.csv'):\n",
    "            data_file_ent.append(file)\n",
    "    for file in data_file_ent:\n",
    "        if str(number) in file:\n",
    "            df = pd.read_csv(data_file+'/'+'BTC'+str(number)+'.csv')\n",
    "    return df"
   ]
  }
 ],
 "metadata": {
  "kernelspec": {
   "display_name": "Python 3 (ipykernel)",
   "language": "python",
   "name": "python3"
  },
  "language_info": {
   "codemirror_mode": {
    "name": "ipython",
    "version": 3
   },
   "file_extension": ".py",
   "mimetype": "text/x-python",
   "name": "python",
   "nbconvert_exporter": "python",
   "pygments_lexer": "ipython3",
   "version": "3.7.12"
  }
 },
 "nbformat": 4,
 "nbformat_minor": 5
}
