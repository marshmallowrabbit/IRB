{
 "cells": [
  {
   "cell_type": "code",
   "execution_count": 4,
   "id": "247eaa30-e2c4-4517-8bdb-62d2aec47b8d",
   "metadata": {},
   "outputs": [],
   "source": [
    "import ccxt\n",
    "import pandas as pd\n",
    "import pandas_ta as ta\n",
    "import numpy as np\n",
    "from datetime import datetime\n",
    "import time\n",
    "import sys\n",
    "from Analysis import Analysis \n",
    "from getSignals import getSignals\n",
    "from Plot import Plot\n",
    "import os"
   ]
  },
  {
   "cell_type": "code",
   "execution_count": 18,
   "id": "7ff9554f-571b-4c0c-a5cb-c143a05d6fa0",
   "metadata": {},
   "outputs": [],
   "source": [
    "data_file = 'BTC_15'\n",
    "data_file_ent = []\n",
    "for file in os.listdir(data_file):\n",
    "    if file.endswith('.csv'):\n",
    "        data_file_ent.append(file)"
   ]
  },
  {
   "cell_type": "code",
   "execution_count": 29,
   "id": "4fc3231e-e6e8-45bc-bb99-2f16e12f9714",
   "metadata": {},
   "outputs": [],
   "source": [
    "for file in data_file_ent:\n",
    "    if str(1) in file:\n",
    "        df = pd.read_csv(data_file+'/'+'BTC'+str(1)+'.csv')"
   ]
  },
  {
   "cell_type": "code",
   "execution_count": null,
   "id": "2902f771-8324-4f06-8647-87fcf1cb66ce",
   "metadata": {},
   "outputs": [],
   "source": []
  }
 ],
 "metadata": {
  "kernelspec": {
   "display_name": "Python 3 (ipykernel)",
   "language": "python",
   "name": "python3"
  },
  "language_info": {
   "codemirror_mode": {
    "name": "ipython",
    "version": 3
   },
   "file_extension": ".py",
   "mimetype": "text/x-python",
   "name": "python",
   "nbconvert_exporter": "python",
   "pygments_lexer": "ipython3",
   "version": "3.7.12"
  }
 },
 "nbformat": 4,
 "nbformat_minor": 5
}
