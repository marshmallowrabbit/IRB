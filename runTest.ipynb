{
 "cells": [
  {
   "cell_type": "code",
   "execution_count": 46,
   "id": "247eaa30-e2c4-4517-8bdb-62d2aec47b8d",
   "metadata": {},
   "outputs": [],
   "source": [
    "import os\n",
    "import pandas as pd\n",
    "from Analysis import Analysis \n",
    "from getSignals import getSignals\n",
    "from Plot import Plot"
   ]
  },
  {
   "cell_type": "code",
   "execution_count": 52,
   "id": "7ff9554f-571b-4c0c-a5cb-c143a05d6fa0",
   "metadata": {},
   "outputs": [],
   "source": [
    "data_file = 'BTC_15'"
   ]
  },
  {
   "cell_type": "code",
   "execution_count": 50,
   "id": "2902f771-8324-4f06-8647-87fcf1cb66ce",
   "metadata": {},
   "outputs": [],
   "source": [
    "def recall(data_file):\n",
    "    data_file_ent = []\n",
    "    for file in os.listdir(data_file):\n",
    "        if file.endswith('.csv'):\n",
    "            data_file_ent.append(file)\n",
    "    for file in data_file_ent:\n",
    "        if str(1) in file:\n",
    "            df = pd.read_csv(data_file+'/'+'BTC'+str(1)+'.csv')\n",
    "    return df"
   ]
  },
  {
   "cell_type": "code",
   "execution_count": null,
   "id": "c8449dc0-fb64-4843-9830-5c426e6a3088",
   "metadata": {},
   "outputs": [],
   "source": []
  },
  {
   "cell_type": "raw",
   "id": "77e6a7f5-a989-4b37-8ee7-67cd7e4bdf28",
   "metadata": {},
   "source": []
  }
 ],
 "metadata": {
  "kernelspec": {
   "display_name": "Python 3 (ipykernel)",
   "language": "python",
   "name": "python3"
  },
  "language_info": {
   "codemirror_mode": {
    "name": "ipython",
    "version": 3
   },
   "file_extension": ".py",
   "mimetype": "text/x-python",
   "name": "python",
   "nbconvert_exporter": "python",
   "pygments_lexer": "ipython3",
   "version": "3.7.12"
  }
 },
 "nbformat": 4,
 "nbformat_minor": 5
}
